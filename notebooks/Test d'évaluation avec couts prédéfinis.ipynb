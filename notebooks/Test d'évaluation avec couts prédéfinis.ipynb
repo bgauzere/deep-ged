{
 "cells": [
  {
   "cell_type": "markdown",
   "id": "29b1c313",
   "metadata": {},
   "source": [
    "Ce notebook sert à tester la classe Evaluator avec des couts initiaux. Les performances devraient être de l'ordre de 88% de bonne classification en 90/10"
   ]
  },
  {
   "cell_type": "code",
   "execution_count": 1,
   "id": "150a8d0c",
   "metadata": {},
   "outputs": [],
   "source": [
    "%reload_ext autoreload\n",
    "%autoreload 2\n",
    "import sys\n",
    "sys.path.append('../')"
   ]
  },
  {
   "cell_type": "code",
   "execution_count": 2,
   "id": "12c56b75",
   "metadata": {},
   "outputs": [],
   "source": [
    "import os\n",
    "dataset_path = os.getenv('MAO_DATASET_PATH')\n"
   ]
  },
  {
   "cell_type": "code",
   "execution_count": 3,
   "id": "afe28245",
   "metadata": {},
   "outputs": [],
   "source": [
    "from evaluation.evaluate import Evaluator\n",
    "from gklearn.utils.graphfiles import loadDataset\n",
    "import torch\n",
    "import numpy as np"
   ]
  },
  {
   "cell_type": "code",
   "execution_count": 4,
   "id": "48e07601",
   "metadata": {},
   "outputs": [],
   "source": [
    "Gs,y = loadDataset(dataset_path)"
   ]
  },
  {
   "cell_type": "code",
   "execution_count": 5,
   "id": "c26159de",
   "metadata": {},
   "outputs": [
    {
     "name": "stdout",
     "output_type": "stream",
     "text": [
      "['C', 'N', 'O']\n",
      "{'C': 0, 'N': 1, 'O': 2} 3\n",
      "3\n",
      "torch.Size([68, 729])\n",
      "adjacency matrices tensor([[        0,         1,         0,  ...,         0,         0,\n",
      "         524055856],\n",
      "        [        0,         1,         0,  ...,         0, 567927792,\n",
      "             32724],\n",
      "        [        0,         1,         0,  ...,         0,         0,\n",
      "                 0],\n",
      "        ...,\n",
      "        [        0,         1,         0,  ...,         0,         0,\n",
      "                 0],\n",
      "        [        0,         1,         0,  ...,         0,         0,\n",
      "                 0],\n",
      "        [        0,         1,         0,  ...,         0,         0,\n",
      "                 0]], dtype=torch.int32)\n",
      "node labels tensor([[         1,          0,          0,  ..., 1645530528,      32723,\n",
      "         1645505104],\n",
      "        [         1,          0,          0,  ...,      32723, 1645128880,\n",
      "              32723],\n",
      "        [         1,          0,          0,  ..., 1644544528,      32723,\n",
      "         1645006640],\n",
      "        ...,\n",
      "        [         1,          0,          0,  ...,          0, -613882176,\n",
      "              32723],\n",
      "        [         1,          0,          0,  ...,          0,          0,\n",
      "                  0],\n",
      "        [         1,          0,          0,  ...,      32723, -176085457,\n",
      "         -556834367]], dtype=torch.int32)\n",
      "order of the graphs tensor([11, 12, 14, 14, 15, 17, 15, 16, 19, 15, 16, 19, 12, 13, 15, 18, 16, 16,\n",
      "        17, 16, 17, 17, 18, 19, 19, 18, 18, 22, 22, 15, 14, 13, 16, 17, 17, 21,\n",
      "        17, 18, 18, 21, 24, 25, 25, 14, 17, 18, 18, 22, 23, 23, 25, 27, 27, 15,\n",
      "        16, 23, 24, 24, 16, 17, 17, 20, 23, 24, 26, 16, 17, 21])\n"
     ]
    }
   ],
   "source": [
    "evaluator  = Evaluator(Gs)"
   ]
  },
  {
   "cell_type": "code",
   "execution_count": 17,
   "id": "29c0c836",
   "metadata": {},
   "outputs": [
    {
     "name": "stdout",
     "output_type": "stream",
     "text": [
      "tensor([[0., 1., 1.],\n",
      "        [1., 0., 1.],\n",
      "        [1., 1., 0.]])\n",
      "tensor([[0., 1., 1.],\n",
      "        [1., 0., 1.],\n",
      "        [1., 1., 0.]])\n",
      "tensor([3.]) tensor([3.])\n"
     ]
    }
   ],
   "source": [
    "# Création des poids initiaux, sans être appris\n",
    "nb_node_labels = evaluator.nb_labels\n",
    "cns = torch.ones(nb_node_labels,nb_node_labels) \n",
    "cns = cns - torch.diag(cns.diag())\n",
    "print(cns)\n",
    "\n",
    "nb_edge_labels = evaluator.nb_edge_labels\n",
    "ces = torch.ones(nb_edge_labels,nb_edge_labels) \n",
    "ces = ces - torch.diag(ces.diag())\n",
    "print(ces)\n",
    "\n",
    "cndl = torch.ones(1) * 3\n",
    "cedl = torch.ones(1) * 3\n",
    "\n",
    "print(cndl,cedl)"
   ]
  },
  {
   "cell_type": "code",
   "execution_count": 18,
   "id": "e8496cc2",
   "metadata": {},
   "outputs": [
    {
     "name": "stdout",
     "output_type": "stream",
     "text": [
      "[61 14 41 37 35 30 64 10 32 31 52 49 34  8 12 66 28 40  2 46  0 38  9 23\n",
      " 39 33 11  3 50  4 48 20 21 44 45 36 19  5 47 51 15 43 25 27 63  7 67 18\n",
      " 60 13 59 55 56 42 58 26 29 16 62 65 24  6] [22 53 54  1 17 57]\n",
      "[0.0, 1.0, 0.0, 1.0, 0.0, 0.0, 0.0, 1.0, 1.0, 0.0, 0.0, 0.0, 1.0, 0.0, 0.0, 1.0, 0.0, 0.0, 0.0, 1.0, 0.0, 1.0, 0.0, 1.0, 0.0, 1.0, 0.0, 0.0, 0.0, 1.0, 0.0, 1.0, 1.0, 1.0, 1.0, 1.0, 1.0, 0.0, 0.0, 0.0, 0.0, 0.0, 1.0, 1.0, 0.0, 1.0, 0.0, 1.0, 1.0, 0.0, 1.0, 0.0, 0.0, 0.0, 1.0, 1.0, 0.0, 1.0, 0.0, 1.0, 0.0, 0.0] [1.0, 1.0, 0.0, 0.0, 1.0, 0.0]\n"
     ]
    }
   ],
   "source": [
    "nb_graph_dataset = len(Gs)\n",
    "shuffled_indexes = np.random.permutation(range(nb_graph_dataset))\n",
    "nb_test_data = nb_graph_dataset//10\n",
    "nb_train_data = nb_graph_dataset - nb_test_data\n",
    "\n",
    "train_data = shuffled_indexes[:nb_train_data]\n",
    "test_data = shuffled_indexes[nb_train_data:]\n",
    "print(train_data,test_data)\n",
    "\n",
    "y_train = [y[train_index] for train_index in train_data]\n",
    "y_test = [y[test_index] for test_index in test_data]\n",
    "print(y_train, y_test)"
   ]
  },
  {
   "cell_type": "code",
   "execution_count": 21,
   "id": "62fd56ac",
   "metadata": {},
   "outputs": [
    {
     "name": "stderr",
     "output_type": "stream",
     "text": [
      "100%|██████████████████████████████████████████████████████████████████████████████████████████████████████████████████████████████████████████████████████████████████████████████| 62/62 [02:50<00:00,  2.75s/it]\n",
      "100%|████████████████████████████████████████████████████████████████████████████████████████████████████████████████████████████████████████████████████████████████████████████████| 6/6 [00:16<00:00,  2.82s/it]\n"
     ]
    },
    {
     "name": "stdout",
     "output_type": "stream",
     "text": [
      "Test Results : \n",
      "              precision    recall  f1-score   support\n",
      "\n",
      "         0.0       1.00      0.67      0.80         3\n",
      "         1.0       0.75      1.00      0.86         3\n",
      "\n",
      "    accuracy                           0.83         6\n",
      "   macro avg       0.88      0.83      0.83         6\n",
      "weighted avg       0.88      0.83      0.83         6\n",
      "\n",
      "[[2 1]\n",
      " [0 3]]\n"
     ]
    }
   ],
   "source": [
    "k=3\n",
    "D_train, D_test = evaluator.classification(train_data, test_data, y_train,y_test,k,cns,ces,cndl,cedl)"
   ]
  },
  {
   "cell_type": "code",
   "execution_count": null,
   "id": "56777eaa",
   "metadata": {},
   "outputs": [],
   "source": [
    "    "
   ]
  }
 ],
 "metadata": {
  "kernelspec": {
   "display_name": "deep-ged-venv",
   "language": "python",
   "name": "deep-ged-venv"
  },
  "language_info": {
   "codemirror_mode": {
    "name": "ipython",
    "version": 3
   },
   "file_extension": ".py",
   "mimetype": "text/x-python",
   "name": "python",
   "nbconvert_exporter": "python",
   "pygments_lexer": "ipython3",
   "version": "3.9.7"
  }
 },
 "nbformat": 4,
 "nbformat_minor": 5
}
