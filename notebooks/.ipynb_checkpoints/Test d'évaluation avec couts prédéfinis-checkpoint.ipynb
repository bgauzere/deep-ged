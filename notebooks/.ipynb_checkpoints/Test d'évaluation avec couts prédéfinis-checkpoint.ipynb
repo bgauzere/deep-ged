{
 "cells": [
  {
   "cell_type": "markdown",
   "id": "250d1b9a",
   "metadata": {},
   "source": []
  },
  {
   "cell_type": "code",
   "execution_count": 1,
   "id": "150a8d0c",
   "metadata": {},
   "outputs": [],
   "source": [
    "import sys\n",
    "sys.path.append('../')"
   ]
  },
  {
   "cell_type": "code",
   "execution_count": 5,
   "id": "12c56b75",
   "metadata": {},
   "outputs": [],
   "source": [
    "import os\n",
    "dataset_path = os.getenv('MAO_DATASET_PATH')\n"
   ]
  },
  {
   "cell_type": "code",
   "execution_count": 6,
   "id": "afe28245",
   "metadata": {},
   "outputs": [],
   "source": [
    "from evaluation.evaluate import Evaluator\n",
    "from gklearn.utils.graphfiles import loadDataset"
   ]
  },
  {
   "cell_type": "code",
   "execution_count": 7,
   "id": "15b6c8a1",
   "metadata": {},
   "outputs": [],
   "source": [
    "Gs,y = loadDataset(dataset_path)"
   ]
  },
  {
   "cell_type": "code",
   "execution_count": 9,
   "id": "e7cf1ece",
   "metadata": {},
   "outputs": [
    {
     "name": "stdout",
     "output_type": "stream",
     "text": [
      "['C', 'N', 'O']\n",
      "{'C': 0, 'N': 1, 'O': 2} 3\n",
      "3\n",
      "torch.Size([68, 729])\n",
      "adjacency matrices tensor([[       0,        1,        0,  ...,       -1,       -1, 14024703],\n",
      "        [       0,        1,        0,  ..., 38207487,       -1,       -1],\n",
      "        [       0,        1,        0,  ...,       -1,   -64659,       -1],\n",
      "        ...,\n",
      "        [       0,        1,        0,  ...,        0,        0,        0],\n",
      "        [       0,        1,        0,  ...,        0,        0,        0],\n",
      "        [       0,        1,        0,  ...,        0,        0,        0]],\n",
      "       dtype=torch.int32)\n",
      "node labels tensor([[          1,           0,           0,  ...,  1090330768,\n",
      "               32673,  -139331838],\n",
      "        [          1,           0,           0,  ...,  -338319025,\n",
      "          1090410736,       32673],\n",
      "        [          1,           0,           0,  ...,  1089805504,\n",
      "               32673,    19185856],\n",
      "        ...,\n",
      "        [          1,           0,           0,  ..., -1309053656,\n",
      "                   0,           0],\n",
      "        [          1,           0,           0,  ...,  1014314544,\n",
      "               32673, -1794006054],\n",
      "        [          1,           0,           0,  ...,   783228235,\n",
      "          1011838048,       32673]], dtype=torch.int32)\n",
      "order of the graphs tensor([11, 12, 14, 14, 15, 17, 15, 16, 19, 15, 16, 19, 12, 13, 15, 18, 16, 16,\n",
      "        17, 16, 17, 17, 18, 19, 19, 18, 18, 22, 22, 15, 14, 13, 16, 17, 17, 21,\n",
      "        17, 18, 18, 21, 24, 25, 25, 14, 17, 18, 18, 22, 23, 23, 25, 27, 27, 15,\n",
      "        16, 23, 24, 24, 16, 17, 17, 20, 23, 24, 26, 16, 17, 21])\n"
     ]
    }
   ],
   "source": [
    "evaluator  = Evaluator(Gs)"
   ]
  },
  {
   "cell_type": "code",
   "execution_count": null,
   "id": "338dbb2c",
   "metadata": {},
   "outputs": [],
   "source": [
    "# Création des poids initiaux, sans être appris"
   ]
  }
 ],
 "metadata": {
  "kernelspec": {
   "display_name": "deep-ged-venv",
   "language": "python",
   "name": "deep-ged-venv"
  },
  "language_info": {
   "codemirror_mode": {
    "name": "ipython",
    "version": 3
   },
   "file_extension": ".py",
   "mimetype": "text/x-python",
   "name": "python",
   "nbconvert_exporter": "python",
   "pygments_lexer": "ipython3",
   "version": "3.9.7"
  }
 },
 "nbformat": 4,
 "nbformat_minor": 5
}
