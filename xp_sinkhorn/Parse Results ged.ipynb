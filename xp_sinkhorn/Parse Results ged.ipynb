{
 "cells": [
  {
   "cell_type": "code",
   "execution_count": null,
   "id": "2722f8d3",
   "metadata": {},
   "outputs": [],
   "source": [
    "import pickle\n",
    "import numpy as np\n",
    "\n",
    "data = pickle.load(open(\"results_ged\",\"rb\"))\n",
    "print(data)"
   ]
  },
  {
   "cell_type": "code",
   "execution_count": null,
   "id": "f50c498f",
   "metadata": {},
   "outputs": [],
   "source": [
    "fig,axes = plt.subplots(1,3,figsize=(30,10))\n",
    "for mat, ax in zip(data.values(),axes):\n",
    "    im=ax.matshow(np.array(mat).reshape(68,68),vmin=0,vmax=100)\n",
    "\n",
    "\n",
    "fig.subplots_adjust(right=0.85)\n",
    "cbar_ax = fig.add_axes([0.88, 0.15, 0.04, 0.7])\n",
    "fig.colorbar(im, cax=cbar_ax)"
   ]
  },
  {
   "cell_type": "markdown",
   "id": "b9148cd4",
   "metadata": {},
   "source": [
    "# Calcul des erreurs relatives"
   ]
  },
  {
   "cell_type": "code",
   "execution_count": null,
   "id": "96b34301",
   "metadata": {},
   "outputs": [],
   "source": [
    "geds = np.hstack([np.array(mat).reshape(-1,1) for mat in data.values()])"
   ]
  },
  {
   "cell_type": "code",
   "execution_count": null,
   "id": "e4fdb33c",
   "metadata": {},
   "outputs": [],
   "source": [
    "geds.shape"
   ]
  },
  {
   "cell_type": "code",
   "execution_count": null,
   "id": "ef6bc0b8",
   "metadata": {},
   "outputs": [],
   "source": [
    "geds_filtered = np.delete(geds,slice(0,None,69),axis=0)\n",
    "geds_filtered.shape\n"
   ]
  },
  {
   "cell_type": "code",
   "execution_count": null,
   "id": "19bd7c08",
   "metadata": {},
   "outputs": [],
   "source": [
    "erreurs = geds_filtered - geds_filtered.min(axis=1).reshape(-1,1)"
   ]
  },
  {
   "cell_type": "code",
   "execution_count": null,
   "id": "e2cada9c",
   "metadata": {},
   "outputs": [],
   "source": [
    "rel_erreurs = erreurs/geds_filtered.min(axis=1).reshape(-1,1)"
   ]
  },
  {
   "cell_type": "code",
   "execution_count": null,
   "id": "6918582b",
   "metadata": {},
   "outputs": [],
   "source": [
    "rel_erreurs.mean(axis=0)\n"
   ]
  },
  {
   "cell_type": "code",
   "execution_count": null,
   "id": "09dc400c",
   "metadata": {},
   "outputs": [],
   "source": [
    "np.mean(geds,axis=0)"
   ]
  },
  {
   "cell_type": "code",
   "execution_count": null,
   "id": "da050077",
   "metadata": {},
   "outputs": [],
   "source": []
  }
 ],
 "metadata": {
  "kernelspec": {
   "display_name": "mlenv",
   "language": "python",
   "name": "mlenv"
  },
  "language_info": {
   "codemirror_mode": {
    "name": "ipython",
    "version": 3
   },
   "file_extension": ".py",
   "mimetype": "text/x-python",
   "name": "python",
   "nbconvert_exporter": "python",
   "pygments_lexer": "ipython3",
   "version": "3.10.6"
  }
 },
 "nbformat": 4,
 "nbformat_minor": 5
}
